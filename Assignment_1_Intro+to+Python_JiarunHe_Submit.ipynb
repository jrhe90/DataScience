{
 "cells": [
  {
   "cell_type": "markdown",
   "metadata": {},
   "source": [
    "## Assignment 1 - Intro to Python"
   ]
  },
  {
   "cell_type": "markdown",
   "metadata": {},
   "source": [
    "### Part 1 - Loops and Lists"
   ]
  },
  {
   "cell_type": "markdown",
   "metadata": {},
   "source": [
    "<b>1.1.</b> Write a for-loop which will read a list of any kind and print out each item in a list on a separate line. For example, if you start with the list of fruits:\n",
    "fruits = ['apples', 'oranges', 'pears', 'apricots'], \n",
    "the output of the code can be:<br>\n",
    "     <i>a fruit of type: apples</i><br>\n",
    "     <i>a fruit of type: oranges</i><br>\n",
    "     etc.\n",
    "     \n",
    "The code should work with a list of any length and any type of list, i.e. strings, integers, other lists.\n",
    "Test your code with at least 2 different types of lists."
   ]
  },
  {
   "cell_type": "code",
   "execution_count": 1,
   "metadata": {},
   "outputs": [],
   "source": [
    "# Type your code here\n",
    "def loop(lists):\n",
    "    for i in lists:\n",
    "        print ('an item of type: '+ str(i))"
   ]
  },
  {
   "cell_type": "code",
   "execution_count": 2,
   "metadata": {},
   "outputs": [],
   "source": [
    "fruits = ['apples','oranges','pears','apricots']"
   ]
  },
  {
   "cell_type": "code",
   "execution_count": 3,
   "metadata": {},
   "outputs": [
    {
     "name": "stdout",
     "output_type": "stream",
     "text": [
      "an item of type: apples\n",
      "an item of type: oranges\n",
      "an item of type: pears\n",
      "an item of type: apricots\n"
     ]
    }
   ],
   "source": [
    "loop(fruits)"
   ]
  },
  {
   "cell_type": "code",
   "execution_count": 4,
   "metadata": {},
   "outputs": [],
   "source": [
    "numbers = [1,2,3,4,5,6,7]"
   ]
  },
  {
   "cell_type": "code",
   "execution_count": 5,
   "metadata": {},
   "outputs": [
    {
     "name": "stdout",
     "output_type": "stream",
     "text": [
      "an item of type: 1\n",
      "an item of type: 2\n",
      "an item of type: 3\n",
      "an item of type: 4\n",
      "an item of type: 5\n",
      "an item of type: 6\n",
      "an item of type: 7\n"
     ]
    }
   ],
   "source": [
    "loop(numbers)"
   ]
  },
  {
   "cell_type": "markdown",
   "metadata": {},
   "source": [
    "<b>1.2.</b> Start with an empty list and generate a list of integers from 0 to 5, reverse the list and print it out. Explain how you reversed the list."
   ]
  },
  {
   "cell_type": "code",
   "execution_count": 6,
   "metadata": {},
   "outputs": [],
   "source": [
    "# Write your code here\n",
    "# Hint: there are multiple ways to create a list of integers. If you are to create it by starting with an empty list\n",
    "# and adding one integer to a list at a time, you can use function append()."
   ]
  },
  {
   "cell_type": "code",
   "execution_count": 7,
   "metadata": {},
   "outputs": [
    {
     "name": "stdout",
     "output_type": "stream",
     "text": [
      "[0, 1, 2, 3, 4, 5]\n"
     ]
    }
   ],
   "source": [
    "newList = []\n",
    "for i in range (6):\n",
    "    newList.append (i)\n",
    "print (newList)"
   ]
  },
  {
   "cell_type": "code",
   "execution_count": 8,
   "metadata": {},
   "outputs": [],
   "source": [
    "newList.reverse()"
   ]
  },
  {
   "cell_type": "code",
   "execution_count": 9,
   "metadata": {},
   "outputs": [
    {
     "name": "stdout",
     "output_type": "stream",
     "text": [
      "[5, 4, 3, 2, 1, 0]\n"
     ]
    }
   ],
   "source": [
    "print (newList)"
   ]
  },
  {
   "cell_type": "code",
   "execution_count": 10,
   "metadata": {},
   "outputs": [],
   "source": [
    "# The method reverse( ) reverses objects of list in place.\n",
    "# This method does not return any value but reverse the given object from the list."
   ]
  },
  {
   "cell_type": "markdown",
   "metadata": {},
   "source": [
    "### Part 2 - Dictionaries"
   ]
  },
  {
   "cell_type": "markdown",
   "metadata": {},
   "source": [
    "Create two dictionaries, <i><b>provinces</b></i> and <i><b>capitals</b></i>. \n",
    "\n",
    "Dictionary <i><b>provinces</b></i> will use province names as a key and province abbreviation as a value. \n",
    "Dictionary <i><b>capitals</b></i> will use province abbreviation as a key and a capital name as a value.\n",
    "\n",
    "Print out all combinations of the province names and the corresponding capitals. An example of the output:<br>\n",
    "<i>The capital of Alberta is Edmonton </i><br>\n",
    "<i>The capital of British Columbia is Victoria</i><br>\n",
    "\n",
    "Add 2-3 provinces and corresponding capitals to your dictionaries. Print out the resulting list of province/capital combinations.\n"
   ]
  },
  {
   "cell_type": "code",
   "execution_count": 11,
   "metadata": {},
   "outputs": [
    {
     "name": "stdout",
     "output_type": "stream",
     "text": [
      "The capital of British Columbia is Victoria\n",
      "The capital of Alberta is Edmonton\n"
     ]
    }
   ],
   "source": [
    "# Write your code here\n",
    "provinces = {'Alberta':'AB', 'British Columbia':'BC'}\n",
    "capitals = {'AB':'Edmonton','BC':'Victoria'}\n",
    "for i in provinces:\n",
    "    print ('The capital of '+ i + ' is ' + capitals[provinces[i]])"
   ]
  },
  {
   "cell_type": "code",
   "execution_count": 12,
   "metadata": {},
   "outputs": [],
   "source": [
    "# Adding provinces and capitals to the dictionaries\n",
    "provinces['Ontario']='ON'\n",
    "provinces['Quebec']='QC'\n",
    "provinces['Manitoba']='MB'\n",
    "capitals['ON']='Toronto'\n",
    "capitals['QC']='Quebec City'\n",
    "capitals['MB']='Winnipeg'"
   ]
  },
  {
   "cell_type": "code",
   "execution_count": 13,
   "metadata": {},
   "outputs": [
    {
     "name": "stdout",
     "output_type": "stream",
     "text": [
      "The capital of British Columbia is Victoria\n",
      "The capital of Quebec is Quebec City\n",
      "The capital of Ontario is Toronto\n",
      "The capital of Alberta is Edmonton\n",
      "The capital of Manitoba is Winnipeg\n"
     ]
    }
   ],
   "source": [
    "for i in provinces:\n",
    "    print ('The capital of '+ i + ' is ' + capitals[provinces[i]])"
   ]
  },
  {
   "cell_type": "markdown",
   "metadata": {},
   "source": [
    "### Part 3 - Greatest Common Divisor (GCD)"
   ]
  },
  {
   "cell_type": "markdown",
   "metadata": {},
   "source": [
    "The Greatest Common Divisor (GCD) of <i>a</i> and <i>b</i> is the largest number that divides both of them with no remainder. You can read about GCD here: https://en.wikipedia.org/wiki/Greatest_common_divisor\n",
    "\n",
    "Write a function called <i><b>my_gcd()</b></i> that takes parameters <i>a</i> and <i>b</i> and returns their greatest common divisor.\n",
    "\n",
    "Create your own implementation of the alorithm and test your code by comparing the output of your function to  Python's gcd() function from <i>math</i> package.\n",
    "\n",
    "Test the code with the following inputs: (39, 91), (20, 30) and (40,40). Explain the logic of your function.\n",
    "\n",
    "Hint: You might want to review Think Python book, chapters 5 and 6, sections that talk about recursive functions."
   ]
  },
  {
   "cell_type": "code",
   "execution_count": 14,
   "metadata": {},
   "outputs": [],
   "source": [
    "# Write your code here\n",
    "# By doing research, I found one of the methods of computing the gcd is the binary gcd \n",
    "# method which uses only subtraction and division by 2. \n",
    "# In outline the method is as follows: Let a and b be the two non negative integers. Also set the integer d to 0.\n",
    "def my_gcd(A,B):\n",
    "    d = 0\n",
    "    if isinstance(A, int) and isinstance(B, int):\n",
    "        while A%2==0 and B%2==0:\n",
    "            A=A/2\n",
    "            B=B/2\n",
    "            d+=1\n",
    "        while A!=B:\n",
    "            if A%2==0:\n",
    "                A=A/2\n",
    "            elif B%2==0:\n",
    "                B=B/2\n",
    "            elif A>B:\n",
    "                A=(A-B)/2\n",
    "            else:\n",
    "                B=(B-A)/2\n",
    "        g = A\n",
    "        gcd = int(g*2**d)\n",
    "    else:\n",
    "        return print('ERROR: Please type two integer values!')\n",
    "    return gcd   "
   ]
  },
  {
   "cell_type": "code",
   "execution_count": 15,
   "metadata": {},
   "outputs": [
    {
     "name": "stdout",
     "output_type": "stream",
     "text": [
      "the GCD of 39 and 91 is :  13\n"
     ]
    }
   ],
   "source": [
    "print ('the GCD of 39 and 91 is : ', my_gcd(39,91) )"
   ]
  },
  {
   "cell_type": "code",
   "execution_count": 16,
   "metadata": {},
   "outputs": [
    {
     "name": "stdout",
     "output_type": "stream",
     "text": [
      "the GCD of 20 and 30 is :  10\n"
     ]
    }
   ],
   "source": [
    "print ('the GCD of 20 and 30 is : ', my_gcd(20,30) )"
   ]
  },
  {
   "cell_type": "code",
   "execution_count": 17,
   "metadata": {},
   "outputs": [
    {
     "name": "stdout",
     "output_type": "stream",
     "text": [
      "the GCD of 40 and 40 is :  40\n"
     ]
    }
   ],
   "source": [
    "print ('the GCD of 40 and 40 is : ', my_gcd(40,40) )"
   ]
  },
  {
   "cell_type": "code",
   "execution_count": 18,
   "metadata": {},
   "outputs": [
    {
     "data": {
      "text/plain": [
       "13"
      ]
     },
     "execution_count": 18,
     "metadata": {},
     "output_type": "execute_result"
    }
   ],
   "source": [
    "# Test your code by comparing to the Python built-in function:\n",
    "from math import gcd\n",
    "gcd(39,91)"
   ]
  },
  {
   "cell_type": "code",
   "execution_count": 19,
   "metadata": {},
   "outputs": [
    {
     "data": {
      "text/plain": [
       "10"
      ]
     },
     "execution_count": 19,
     "metadata": {},
     "output_type": "execute_result"
    }
   ],
   "source": [
    "gcd(20,30)"
   ]
  },
  {
   "cell_type": "code",
   "execution_count": 20,
   "metadata": {},
   "outputs": [
    {
     "data": {
      "text/plain": [
       "40"
      ]
     },
     "execution_count": 20,
     "metadata": {},
     "output_type": "execute_result"
    }
   ],
   "source": [
    "gcd(40,40)"
   ]
  },
  {
   "cell_type": "code",
   "execution_count": null,
   "metadata": {},
   "outputs": [],
   "source": []
  },
  {
   "cell_type": "code",
   "execution_count": null,
   "metadata": {},
   "outputs": [],
   "source": []
  }
 ],
 "metadata": {
  "kernelspec": {
   "display_name": "Python 3",
   "language": "python",
   "name": "python3"
  },
  "language_info": {
   "codemirror_mode": {
    "name": "ipython",
    "version": 3
   },
   "file_extension": ".py",
   "mimetype": "text/x-python",
   "name": "python",
   "nbconvert_exporter": "python",
   "pygments_lexer": "ipython3",
   "version": "3.5.1"
  }
 },
 "nbformat": 4,
 "nbformat_minor": 2
}
